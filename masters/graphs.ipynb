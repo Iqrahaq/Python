{
 "metadata": {
  "language_info": {
   "codemirror_mode": {
    "name": "ipython",
    "version": 3
   },
   "file_extension": ".py",
   "mimetype": "text/x-python",
   "name": "python",
   "nbconvert_exporter": "python",
   "pygments_lexer": "ipython3",
   "version": "3.8.5-final"
  },
  "orig_nbformat": 2,
  "kernelspec": {
   "name": "python38564bit6afb875c50f84adba2f317e2bee9bad2",
   "display_name": "Python 3.8.5 64-bit",
   "language": "python"
  }
 },
 "nbformat": 4,
 "nbformat_minor": 2,
 "cells": [
  {
   "cell_type": "code",
   "execution_count": 2,
   "metadata": {},
   "outputs": [
    {
     "output_type": "execute_result",
     "data": {
      "text/plain": [
       "    protocol     source_ip destination_ip  src_port  dst_port  payload_size  \\\n",
       "0       ICMP  192.168.0.17        8.8.8.8       NaN       NaN           NaN   \n",
       "1       ICMP       8.8.8.8   192.168.0.17       NaN       NaN           NaN   \n",
       "2       ICMP  192.168.0.17        8.8.8.8       NaN       NaN           NaN   \n",
       "3       ICMP       8.8.8.8   192.168.0.17       NaN       NaN           NaN   \n",
       "4        TCP  192.168.0.16   52.114.75.78   55370.0     443.0        1500.0   \n",
       "..       ...           ...            ...       ...       ...           ...   \n",
       "587      TCP  192.168.0.17   192.168.0.16   59390.0      80.0          44.0   \n",
       "588      TCP  192.168.0.17   192.168.0.16   59391.0      80.0          44.0   \n",
       "589      UDP  192.168.0.32    224.0.0.251    5353.0    5353.0         167.0   \n",
       "590      UDP  192.168.0.32    224.0.0.251    5353.0    5353.0         140.0   \n",
       "591      UDP  192.168.0.32    224.0.0.251    5353.0    5353.0         140.0   \n",
       "\n",
       "    flags        date      time  \n",
       "0     NaN  2021-03-12  13:27:50  \n",
       "1     NaN  2021-03-12  13:27:50  \n",
       "2     NaN  2021-03-12  13:27:51  \n",
       "3     NaN  2021-03-12  13:27:51  \n",
       "4     ACK  2021-03-12  13:27:51  \n",
       "..    ...         ...       ...  \n",
       "587   SYN  2021-03-04  15:46:50  \n",
       "588   SYN  2021-03-04  15:46:50  \n",
       "589   NaN  2021-03-04  15:47:13  \n",
       "590   NaN  2021-03-04  15:47:14  \n",
       "591   NaN  2021-03-04  15:47:17  \n",
       "\n",
       "[592 rows x 9 columns]"
      ],
      "text/html": "<div>\n<style scoped>\n    .dataframe tbody tr th:only-of-type {\n        vertical-align: middle;\n    }\n\n    .dataframe tbody tr th {\n        vertical-align: top;\n    }\n\n    .dataframe thead th {\n        text-align: right;\n    }\n</style>\n<table border=\"1\" class=\"dataframe\">\n  <thead>\n    <tr style=\"text-align: right;\">\n      <th></th>\n      <th>protocol</th>\n      <th>source_ip</th>\n      <th>destination_ip</th>\n      <th>src_port</th>\n      <th>dst_port</th>\n      <th>payload_size</th>\n      <th>flags</th>\n      <th>date</th>\n      <th>time</th>\n    </tr>\n  </thead>\n  <tbody>\n    <tr>\n      <th>0</th>\n      <td>ICMP</td>\n      <td>192.168.0.17</td>\n      <td>8.8.8.8</td>\n      <td>NaN</td>\n      <td>NaN</td>\n      <td>NaN</td>\n      <td>NaN</td>\n      <td>2021-03-12</td>\n      <td>13:27:50</td>\n    </tr>\n    <tr>\n      <th>1</th>\n      <td>ICMP</td>\n      <td>8.8.8.8</td>\n      <td>192.168.0.17</td>\n      <td>NaN</td>\n      <td>NaN</td>\n      <td>NaN</td>\n      <td>NaN</td>\n      <td>2021-03-12</td>\n      <td>13:27:50</td>\n    </tr>\n    <tr>\n      <th>2</th>\n      <td>ICMP</td>\n      <td>192.168.0.17</td>\n      <td>8.8.8.8</td>\n      <td>NaN</td>\n      <td>NaN</td>\n      <td>NaN</td>\n      <td>NaN</td>\n      <td>2021-03-12</td>\n      <td>13:27:51</td>\n    </tr>\n    <tr>\n      <th>3</th>\n      <td>ICMP</td>\n      <td>8.8.8.8</td>\n      <td>192.168.0.17</td>\n      <td>NaN</td>\n      <td>NaN</td>\n      <td>NaN</td>\n      <td>NaN</td>\n      <td>2021-03-12</td>\n      <td>13:27:51</td>\n    </tr>\n    <tr>\n      <th>4</th>\n      <td>TCP</td>\n      <td>192.168.0.16</td>\n      <td>52.114.75.78</td>\n      <td>55370.0</td>\n      <td>443.0</td>\n      <td>1500.0</td>\n      <td>ACK</td>\n      <td>2021-03-12</td>\n      <td>13:27:51</td>\n    </tr>\n    <tr>\n      <th>...</th>\n      <td>...</td>\n      <td>...</td>\n      <td>...</td>\n      <td>...</td>\n      <td>...</td>\n      <td>...</td>\n      <td>...</td>\n      <td>...</td>\n      <td>...</td>\n    </tr>\n    <tr>\n      <th>587</th>\n      <td>TCP</td>\n      <td>192.168.0.17</td>\n      <td>192.168.0.16</td>\n      <td>59390.0</td>\n      <td>80.0</td>\n      <td>44.0</td>\n      <td>SYN</td>\n      <td>2021-03-04</td>\n      <td>15:46:50</td>\n    </tr>\n    <tr>\n      <th>588</th>\n      <td>TCP</td>\n      <td>192.168.0.17</td>\n      <td>192.168.0.16</td>\n      <td>59391.0</td>\n      <td>80.0</td>\n      <td>44.0</td>\n      <td>SYN</td>\n      <td>2021-03-04</td>\n      <td>15:46:50</td>\n    </tr>\n    <tr>\n      <th>589</th>\n      <td>UDP</td>\n      <td>192.168.0.32</td>\n      <td>224.0.0.251</td>\n      <td>5353.0</td>\n      <td>5353.0</td>\n      <td>167.0</td>\n      <td>NaN</td>\n      <td>2021-03-04</td>\n      <td>15:47:13</td>\n    </tr>\n    <tr>\n      <th>590</th>\n      <td>UDP</td>\n      <td>192.168.0.32</td>\n      <td>224.0.0.251</td>\n      <td>5353.0</td>\n      <td>5353.0</td>\n      <td>140.0</td>\n      <td>NaN</td>\n      <td>2021-03-04</td>\n      <td>15:47:14</td>\n    </tr>\n    <tr>\n      <th>591</th>\n      <td>UDP</td>\n      <td>192.168.0.32</td>\n      <td>224.0.0.251</td>\n      <td>5353.0</td>\n      <td>5353.0</td>\n      <td>140.0</td>\n      <td>NaN</td>\n      <td>2021-03-04</td>\n      <td>15:47:17</td>\n    </tr>\n  </tbody>\n</table>\n<p>592 rows × 9 columns</p>\n</div>"
     },
     "metadata": {},
     "execution_count": 2
    }
   ],
   "source": [
    "import pandas as pd\n",
    "import matplotlib.pyplot as plt\n",
    "from datetime import datetime\n",
    "\n",
    "todays_date = datetime.today()\n",
    "csv_path = \"test.csv\"\n",
    "csv = pd.read_csv(csv_path)\n",
    "packets = pd.DataFrame(csv)\n",
    "packets"
   ]
  },
  {
   "cell_type": "code",
   "execution_count": 8,
   "metadata": {},
   "outputs": [
    {
     "output_type": "error",
     "ename": "TypeError",
     "evalue": "string indices must be integers",
     "traceback": [
      "\u001b[0;31m---------------------------------------------------------------------------\u001b[0m",
      "\u001b[0;31mTypeError\u001b[0m                                 Traceback (most recent call last)",
      "\u001b[0;32m<ipython-input-8-3fcf8b871524>\u001b[0m in \u001b[0;36m<module>\u001b[0;34m\u001b[0m\n\u001b[1;32m      3\u001b[0m \u001b[0mpackets\u001b[0m\u001b[0;34m[\u001b[0m\u001b[0;34m'date'\u001b[0m\u001b[0;34m]\u001b[0m \u001b[0;34m=\u001b[0m \u001b[0mpd\u001b[0m\u001b[0;34m.\u001b[0m\u001b[0mto_datetime\u001b[0m\u001b[0;34m(\u001b[0m\u001b[0mpackets\u001b[0m\u001b[0;34m[\u001b[0m\u001b[0;34m'date'\u001b[0m\u001b[0;34m]\u001b[0m\u001b[0;34m,\u001b[0m \u001b[0myearfirst\u001b[0m\u001b[0;34m=\u001b[0m\u001b[0;32mTrue\u001b[0m\u001b[0;34m)\u001b[0m\u001b[0;34m\u001b[0m\u001b[0;34m\u001b[0m\u001b[0m\n\u001b[1;32m      4\u001b[0m \u001b[0;32mfor\u001b[0m \u001b[0mpacket\u001b[0m \u001b[0;32min\u001b[0m \u001b[0mpackets\u001b[0m\u001b[0;34m:\u001b[0m\u001b[0;34m\u001b[0m\u001b[0;34m\u001b[0m\u001b[0m\n\u001b[0;32m----> 5\u001b[0;31m     \u001b[0;32mif\u001b[0m\u001b[0;34m(\u001b[0m\u001b[0mpacket\u001b[0m\u001b[0;34m[\u001b[0m\u001b[0;34m'date'\u001b[0m\u001b[0;34m]\u001b[0m\u001b[0;34m==\u001b[0m \u001b[0mpd\u001b[0m\u001b[0;34m.\u001b[0m\u001b[0mTimestamp\u001b[0m\u001b[0;34m.\u001b[0m\u001b[0mnow\u001b[0m\u001b[0;34m(\u001b[0m\u001b[0;34m)\u001b[0m\u001b[0;34m)\u001b[0m\u001b[0;34m:\u001b[0m\u001b[0;34m\u001b[0m\u001b[0;34m\u001b[0m\u001b[0m\n\u001b[0m\u001b[1;32m      6\u001b[0m         \u001b[0mpacket_time\u001b[0m \u001b[0;34m=\u001b[0m \u001b[0mpd\u001b[0m\u001b[0;34m.\u001b[0m\u001b[0mto_datetime\u001b[0m\u001b[0;34m(\u001b[0m\u001b[0mpacket\u001b[0m\u001b[0;34m[\u001b[0m\u001b[0;34m'time'\u001b[0m\u001b[0;34m]\u001b[0m\u001b[0;34m,\u001b[0m \u001b[0mformat\u001b[0m\u001b[0;34m=\u001b[0m\u001b[0;34m'%H:%M:%S'\u001b[0m\u001b[0;34m)\u001b[0m\u001b[0;34m.\u001b[0m\u001b[0mdt\u001b[0m\u001b[0;34m.\u001b[0m\u001b[0mstrftime\u001b[0m\u001b[0;34m(\u001b[0m\u001b[0;34m'%H'\u001b[0m\u001b[0;34m)\u001b[0m\u001b[0;34m.\u001b[0m\u001b[0madd\u001b[0m\u001b[0;34m(\u001b[0m\u001b[0;34m':00:00'\u001b[0m\u001b[0;34m)\u001b[0m\u001b[0;34m\u001b[0m\u001b[0;34m\u001b[0m\u001b[0m\n\u001b[1;32m      7\u001b[0m \u001b[0max\u001b[0m\u001b[0;34m.\u001b[0m\u001b[0mplot\u001b[0m\u001b[0;34m(\u001b[0m\u001b[0mpacket_time\u001b[0m\u001b[0;34m,\u001b[0m \u001b[0mpackets\u001b[0m\u001b[0;34m.\u001b[0m\u001b[0mindex\u001b[0m\u001b[0;34m)\u001b[0m\u001b[0;34m\u001b[0m\u001b[0;34m\u001b[0m\u001b[0m\n",
      "\u001b[0;31mTypeError\u001b[0m: string indices must be integers"
     ]
    }
   ],
   "source": [
    "fig, ax = plt.subplots(dpi=120)\n",
    "ax = plt.gca()\n",
    "packets['date'] = pd.to_datetime(packets['date'], yearfirst=True)\n",
    "packets_date = packets[packets['date'] == pd.Timestamp.now()]\n",
    "packet_time = pd.to_datetime(packet['time'], format='%H:%M:%S').dt.strftime('%H').add(':00:00')\n",
    "ax.plot(packet_time, packets.index)\n",
    "ax.set_xlabel(\"Time\")\n",
    "ax.set_ylabel(\"Amount\")\n",
    "plt.title('Detection Activity (24 hours)')\n",
    "plt.show()"
   ]
  },
  {
   "cell_type": "code",
   "execution_count": null,
   "metadata": {},
   "outputs": [],
   "source": []
  }
 ]
}